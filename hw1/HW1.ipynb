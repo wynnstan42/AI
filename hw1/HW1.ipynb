{
 "cells": [
  {
   "cell_type": "markdown",
   "metadata": {},
   "source": [
    "### Import Package"
   ]
  },
  {
   "cell_type": "code",
   "execution_count": 29,
   "metadata": {},
   "outputs": [
    {
     "data": {
      "text/plain": "'G:\\\\我的雲端硬碟\\\\人工智慧\\\\workspace\\\\hw1'"
     },
     "execution_count": 29,
     "metadata": {},
     "output_type": "execute_result"
    }
   ],
   "source": [
    "import numpy as np\n",
    "import pandas as pd\n",
    "import os\n",
    "from sklearn.model_selection import train_test_split\n",
    "# Category Encoder (categorical variable)\n",
    "from sklearn.preprocessing import LabelEncoder\n",
    "# Min max normalization (numerical variable)\n",
    "from sklearn.preprocessing import MinMaxScaler\n",
    "# Model (can also view the scikit learn to choose the model)\n",
    "from xgboost import XGBRegressor\n",
    "os.getcwd()"
   ]
  },
  {
   "cell_type": "markdown",
   "metadata": {},
   "source": [
    "### Read data"
   ]
  },
  {
   "cell_type": "code",
   "execution_count": 81,
   "metadata": {},
   "outputs": [
    {
     "name": "stdout",
     "output_type": "stream",
     "text": [
      "viwe the data shape (957, 15)\n"
     ]
    },
    {
     "data": {
      "text/plain": "       date   quarter  department       day  team  targeted_productivity  \\\n0  1/1/2015  Quarter1      sweing  Thursday     8                   0.80   \n1  1/1/2015  Quarter1  finishing   Thursday     1                   0.75   \n2  1/1/2015  Quarter1      sweing  Thursday    11                   0.80   \n3  1/1/2015  Quarter1      sweing  Thursday    12                   0.80   \n4  1/1/2015  Quarter1      sweing  Thursday     6                   0.80   \n\n     smv     wip  over_time  incentive  idle_time  idle_men  \\\n0  26.16  1108.0       7080         98        0.0         0   \n1   3.94     NaN        960          0        0.0         0   \n2  11.41   968.0       3660         50        0.0         0   \n3  11.41   968.0       3660         50        0.0         0   \n4  25.90  1170.0       1920         50        0.0         0   \n\n   no_of_style_change  no_of_workers  actual_productivity  \n0                   0           59.0             0.940725  \n1                   0            8.0             0.886500  \n2                   0           30.5             0.800570  \n3                   0           30.5             0.800570  \n4                   0           56.0             0.800382  ",
      "text/html": "<div>\n<style scoped>\n    .dataframe tbody tr th:only-of-type {\n        vertical-align: middle;\n    }\n\n    .dataframe tbody tr th {\n        vertical-align: top;\n    }\n\n    .dataframe thead th {\n        text-align: right;\n    }\n</style>\n<table border=\"1\" class=\"dataframe\">\n  <thead>\n    <tr style=\"text-align: right;\">\n      <th></th>\n      <th>date</th>\n      <th>quarter</th>\n      <th>department</th>\n      <th>day</th>\n      <th>team</th>\n      <th>targeted_productivity</th>\n      <th>smv</th>\n      <th>wip</th>\n      <th>over_time</th>\n      <th>incentive</th>\n      <th>idle_time</th>\n      <th>idle_men</th>\n      <th>no_of_style_change</th>\n      <th>no_of_workers</th>\n      <th>actual_productivity</th>\n    </tr>\n  </thead>\n  <tbody>\n    <tr>\n      <th>0</th>\n      <td>1/1/2015</td>\n      <td>Quarter1</td>\n      <td>sweing</td>\n      <td>Thursday</td>\n      <td>8</td>\n      <td>0.80</td>\n      <td>26.16</td>\n      <td>1108.0</td>\n      <td>7080</td>\n      <td>98</td>\n      <td>0.0</td>\n      <td>0</td>\n      <td>0</td>\n      <td>59.0</td>\n      <td>0.940725</td>\n    </tr>\n    <tr>\n      <th>1</th>\n      <td>1/1/2015</td>\n      <td>Quarter1</td>\n      <td>finishing</td>\n      <td>Thursday</td>\n      <td>1</td>\n      <td>0.75</td>\n      <td>3.94</td>\n      <td>NaN</td>\n      <td>960</td>\n      <td>0</td>\n      <td>0.0</td>\n      <td>0</td>\n      <td>0</td>\n      <td>8.0</td>\n      <td>0.886500</td>\n    </tr>\n    <tr>\n      <th>2</th>\n      <td>1/1/2015</td>\n      <td>Quarter1</td>\n      <td>sweing</td>\n      <td>Thursday</td>\n      <td>11</td>\n      <td>0.80</td>\n      <td>11.41</td>\n      <td>968.0</td>\n      <td>3660</td>\n      <td>50</td>\n      <td>0.0</td>\n      <td>0</td>\n      <td>0</td>\n      <td>30.5</td>\n      <td>0.800570</td>\n    </tr>\n    <tr>\n      <th>3</th>\n      <td>1/1/2015</td>\n      <td>Quarter1</td>\n      <td>sweing</td>\n      <td>Thursday</td>\n      <td>12</td>\n      <td>0.80</td>\n      <td>11.41</td>\n      <td>968.0</td>\n      <td>3660</td>\n      <td>50</td>\n      <td>0.0</td>\n      <td>0</td>\n      <td>0</td>\n      <td>30.5</td>\n      <td>0.800570</td>\n    </tr>\n    <tr>\n      <th>4</th>\n      <td>1/1/2015</td>\n      <td>Quarter1</td>\n      <td>sweing</td>\n      <td>Thursday</td>\n      <td>6</td>\n      <td>0.80</td>\n      <td>25.90</td>\n      <td>1170.0</td>\n      <td>1920</td>\n      <td>50</td>\n      <td>0.0</td>\n      <td>0</td>\n      <td>0</td>\n      <td>56.0</td>\n      <td>0.800382</td>\n    </tr>\n  </tbody>\n</table>\n</div>"
     },
     "execution_count": 81,
     "metadata": {},
     "output_type": "execute_result"
    }
   ],
   "source": [
    "# df = pd.read_csv(r'./garments_worker_productivity.csv')\n",
    "df = pd.read_csv(r'./train.csv')\n",
    "print('viwe the data shape', df.shape)\n",
    "df.head()"
   ]
  },
  {
   "cell_type": "markdown",
   "metadata": {},
   "source": [
    "### Check Missing Value"
   ]
  },
  {
   "cell_type": "code",
   "execution_count": 82,
   "metadata": {},
   "outputs": [
    {
     "data": {
      "text/plain": "date                       0\nquarter                    0\ndepartment                 0\nday                        0\nteam                       0\ntargeted_productivity      0\nsmv                        0\nwip                      396\nover_time                  0\nincentive                  0\nidle_time                  0\nidle_men                   0\nno_of_style_change         0\nno_of_workers              0\nactual_productivity        0\ndtype: int64"
     },
     "execution_count": 82,
     "metadata": {},
     "output_type": "execute_result"
    }
   ],
   "source": [
    "df.isna().sum()"
   ]
  },
  {
   "cell_type": "code",
   "execution_count": 83,
   "metadata": {},
   "outputs": [],
   "source": [
    "#Fillna by mean in feature wip\n",
    "df['wip'] = df['wip'].fillna((df['wip'].mean()))"
   ]
  },
  {
   "cell_type": "code",
   "execution_count": 84,
   "metadata": {},
   "outputs": [
    {
     "data": {
      "text/plain": "             team  targeted_productivity         smv           wip  \\\ncount  957.000000             957.000000  957.000000    957.000000   \nmean     6.444096               0.733041   15.258892   1249.989305   \nstd      3.450526               0.098310   11.016415   1551.108780   \nmin      1.000000               0.070000    2.900000      7.000000   \n25%      3.000000               0.700000    3.940000    984.000000   \n50%      7.000000               0.750000   15.260000   1249.989305   \n75%      9.000000               0.800000   22.940000   1249.989305   \nmax     12.000000               0.800000   54.560000  23122.000000   \n\n          over_time   incentive   idle_time    idle_men  no_of_style_change  \\\ncount    957.000000  957.000000  957.000000  957.000000          957.000000   \nmean    4751.755486   26.734587    0.894462    0.352142            0.134796   \nstd     3502.992893   31.645668   14.208009    3.185402            0.413693   \nmin        0.000000    0.000000    0.000000    0.000000            0.000000   \n25%     1440.000000    0.000000    0.000000    0.000000            0.000000   \n50%     4080.000000    0.000000    0.000000    0.000000            0.000000   \n75%     6960.000000   50.000000    0.000000    0.000000            0.000000   \nmax    25920.000000  138.000000  300.000000   45.000000            2.000000   \n\n       no_of_workers  actual_productivity  \ncount     957.000000           957.000000  \nmean       35.112853             0.743013  \nstd        22.201220             0.176066  \nmin         2.000000             0.233705  \n25%        10.000000             0.653598  \n50%        34.000000             0.799963  \n75%        57.000000             0.850532  \nmax        89.000000             1.120437  ",
      "text/html": "<div>\n<style scoped>\n    .dataframe tbody tr th:only-of-type {\n        vertical-align: middle;\n    }\n\n    .dataframe tbody tr th {\n        vertical-align: top;\n    }\n\n    .dataframe thead th {\n        text-align: right;\n    }\n</style>\n<table border=\"1\" class=\"dataframe\">\n  <thead>\n    <tr style=\"text-align: right;\">\n      <th></th>\n      <th>team</th>\n      <th>targeted_productivity</th>\n      <th>smv</th>\n      <th>wip</th>\n      <th>over_time</th>\n      <th>incentive</th>\n      <th>idle_time</th>\n      <th>idle_men</th>\n      <th>no_of_style_change</th>\n      <th>no_of_workers</th>\n      <th>actual_productivity</th>\n    </tr>\n  </thead>\n  <tbody>\n    <tr>\n      <th>count</th>\n      <td>957.000000</td>\n      <td>957.000000</td>\n      <td>957.000000</td>\n      <td>957.000000</td>\n      <td>957.000000</td>\n      <td>957.000000</td>\n      <td>957.000000</td>\n      <td>957.000000</td>\n      <td>957.000000</td>\n      <td>957.000000</td>\n      <td>957.000000</td>\n    </tr>\n    <tr>\n      <th>mean</th>\n      <td>6.444096</td>\n      <td>0.733041</td>\n      <td>15.258892</td>\n      <td>1249.989305</td>\n      <td>4751.755486</td>\n      <td>26.734587</td>\n      <td>0.894462</td>\n      <td>0.352142</td>\n      <td>0.134796</td>\n      <td>35.112853</td>\n      <td>0.743013</td>\n    </tr>\n    <tr>\n      <th>std</th>\n      <td>3.450526</td>\n      <td>0.098310</td>\n      <td>11.016415</td>\n      <td>1551.108780</td>\n      <td>3502.992893</td>\n      <td>31.645668</td>\n      <td>14.208009</td>\n      <td>3.185402</td>\n      <td>0.413693</td>\n      <td>22.201220</td>\n      <td>0.176066</td>\n    </tr>\n    <tr>\n      <th>min</th>\n      <td>1.000000</td>\n      <td>0.070000</td>\n      <td>2.900000</td>\n      <td>7.000000</td>\n      <td>0.000000</td>\n      <td>0.000000</td>\n      <td>0.000000</td>\n      <td>0.000000</td>\n      <td>0.000000</td>\n      <td>2.000000</td>\n      <td>0.233705</td>\n    </tr>\n    <tr>\n      <th>25%</th>\n      <td>3.000000</td>\n      <td>0.700000</td>\n      <td>3.940000</td>\n      <td>984.000000</td>\n      <td>1440.000000</td>\n      <td>0.000000</td>\n      <td>0.000000</td>\n      <td>0.000000</td>\n      <td>0.000000</td>\n      <td>10.000000</td>\n      <td>0.653598</td>\n    </tr>\n    <tr>\n      <th>50%</th>\n      <td>7.000000</td>\n      <td>0.750000</td>\n      <td>15.260000</td>\n      <td>1249.989305</td>\n      <td>4080.000000</td>\n      <td>0.000000</td>\n      <td>0.000000</td>\n      <td>0.000000</td>\n      <td>0.000000</td>\n      <td>34.000000</td>\n      <td>0.799963</td>\n    </tr>\n    <tr>\n      <th>75%</th>\n      <td>9.000000</td>\n      <td>0.800000</td>\n      <td>22.940000</td>\n      <td>1249.989305</td>\n      <td>6960.000000</td>\n      <td>50.000000</td>\n      <td>0.000000</td>\n      <td>0.000000</td>\n      <td>0.000000</td>\n      <td>57.000000</td>\n      <td>0.850532</td>\n    </tr>\n    <tr>\n      <th>max</th>\n      <td>12.000000</td>\n      <td>0.800000</td>\n      <td>54.560000</td>\n      <td>23122.000000</td>\n      <td>25920.000000</td>\n      <td>138.000000</td>\n      <td>300.000000</td>\n      <td>45.000000</td>\n      <td>2.000000</td>\n      <td>89.000000</td>\n      <td>1.120437</td>\n    </tr>\n  </tbody>\n</table>\n</div>"
     },
     "execution_count": 84,
     "metadata": {},
     "output_type": "execute_result"
    }
   ],
   "source": [
    "df.describe()"
   ]
  },
  {
   "cell_type": "markdown",
   "metadata": {},
   "source": [
    "### Categorical Variable"
   ]
  },
  {
   "cell_type": "code",
   "execution_count": 85,
   "metadata": {},
   "outputs": [],
   "source": [
    "le = LabelEncoder()\n",
    "df['date'] = le.fit_transform(df['date'])\n",
    "df['quarter'] = le.fit_transform(df['quarter'])\n",
    "df['department'] = le.fit_transform(df['department'])\n",
    "df['day'] = le.fit_transform(df['day'])"
   ]
  },
  {
   "cell_type": "markdown",
   "metadata": {},
   "source": [
    "### Numerical Variable"
   ]
  },
  {
   "cell_type": "code",
   "execution_count": 86,
   "metadata": {},
   "outputs": [
    {
     "data": {
      "text/plain": "array([[0.        , 0.        , 1.        , ..., 0.        , 0.        ,\n        0.65517241],\n       [0.        , 0.        , 0.5       , ..., 0.        , 0.        ,\n        0.06896552],\n       [0.        , 0.        , 1.        , ..., 0.        , 0.        ,\n        0.32758621],\n       ...,\n       [0.87234043, 0.75      , 1.        , ..., 0.        , 0.5       ,\n        0.64367816],\n       [0.87234043, 0.75      , 0.        , ..., 0.        , 0.        ,\n        0.08045977],\n       [0.87234043, 0.75      , 0.        , ..., 0.        , 0.        ,\n        0.06896552]])"
     },
     "execution_count": 86,
     "metadata": {},
     "output_type": "execute_result"
    }
   ],
   "source": [
    "X = df[df.columns[0:-1]]\n",
    "y = df[df.columns[-1]]\n",
    "\n",
    "scaler = MinMaxScaler()\n",
    "X_scaled = scaler.fit_transform(X)\n",
    "X_scaled"
   ]
  },
  {
   "cell_type": "markdown",
   "metadata": {},
   "source": [
    "### Training (model construction)"
   ]
  },
  {
   "cell_type": "markdown",
   "source": [
    "### Xgboost"
   ],
   "metadata": {
    "collapsed": false
   }
  },
  {
   "cell_type": "code",
   "execution_count": 44,
   "metadata": {},
   "outputs": [
    {
     "name": "stdout",
     "output_type": "stream",
     "text": [
      "Fitting 5 folds for each of 5 candidates, totalling 25 fits\n",
      "Best parameters: {'subsample': 0.5, 'n_estimators': 500, 'max_depth': 30, 'learning_rate': 0.01, 'colsample_bytree': 0.7, 'colsample_bylevel': 0.7999999999999999}\n",
      "Lowest RMSE:  0.13977348274183157\n"
     ]
    },
    {
     "data": {
      "text/plain": "RandomizedSearchCV(estimator=XGBRegressor(base_score=None, booster=None,\n                                          colsample_bylevel=None,\n                                          colsample_bynode=None,\n                                          colsample_bytree=None,\n                                          enable_categorical=False, gamma=None,\n                                          gpu_id=None, importance_type=None,\n                                          interaction_constraints=None,\n                                          learning_rate=None,\n                                          max_delta_step=None, max_depth=None,\n                                          min_child_weight=None, missing=nan,\n                                          monotone_constraints=None,...\n                                          validate_parameters=None,\n                                          verbosity=None),\n                   n_iter=5,\n                   param_distributions={'colsample_bylevel': array([0.5, 0.6, 0.7, 0.8, 0.9]),\n                                        'colsample_bytree': array([0.5, 0.6, 0.7, 0.8, 0.9]),\n                                        'learning_rate': [0.01, 0.05, 0.1, 0.5],\n                                        'max_depth': array([10, 20, 30, 40, 50, 60, 70, 80, 90]),\n                                        'n_estimators': [100, 250, 500, 1000],\n                                        'subsample': array([0.5, 0.6, 0.7, 0.8, 0.9])},\n                   scoring='neg_mean_squared_error', verbose=1)"
     },
     "execution_count": 44,
     "metadata": {},
     "output_type": "execute_result"
    }
   ],
   "source": [
    "from sklearn.model_selection import RandomizedSearchCV\n",
    "\n",
    "# XGB Regressor\n",
    "# model = XGBRegressor() # you can also try hyperparameter\n",
    "params = { 'subsample': np.arange(0.5, 1.0, 0.1),\n",
    "           'n_estimators': [100, 250, 500, 1000],\n",
    "           'max_depth': np.arange(10, 50, 5),\n",
    "           'learning_rate': [0.01, 0.1, 0.01],\n",
    "           'colsample_bytree': np.arange(0.5, 1.0, 0.1),\n",
    "           'colsample_bylevel': np.arange(0.5, 1.0, 0.1)}\n",
    "xgbr = XGBRegressor(seed = 42)\n",
    "model = RandomizedSearchCV(estimator=xgbr,\n",
    "                         param_distributions=params,\n",
    "                         scoring='neg_mean_squared_error',\n",
    "                         n_iter=10,\n",
    "                         verbose=1)\n",
    "model.fit(X_scaled,y)\n",
    "print(\"Best parameters:\", model.best_params_)\n",
    "print(\"Lowest RMSE: \", (-model.best_score_)**(1/2.0))"
   ]
  },
  {
   "cell_type": "code",
   "execution_count": 89,
   "outputs": [
    {
     "data": {
      "text/plain": "XGBRegressor(base_score=0.5, booster='gbtree', colsample_bylevel=0.9,\n             colsample_bynode=1, colsample_bytree=0.9, enable_categorical=False,\n             gamma=0, gpu_id=-1, importance_type=None,\n             interaction_constraints='', learning_rate=0.01, max_delta_step=0,\n             max_depth=100, min_child_weight=1, missing=nan,\n             monotone_constraints='()', n_estimators=1000, n_jobs=16,\n             num_parallel_tree=1, predictor='auto', random_state=0, reg_alpha=0,\n             reg_lambda=1, scale_pos_weight=1, subsample=0.8,\n             tree_method='exact', validate_parameters=1, verbosity=None)"
     },
     "execution_count": 89,
     "metadata": {},
     "output_type": "execute_result"
    }
   ],
   "source": [
    "model = XGBRegressor(subsample=0.8,\n",
    "                     n_estimators=1000,\n",
    "                     max_depth=100,\n",
    "                     learning_rate=0.01,\n",
    "                     colsample_bytree=0.9,\n",
    "                     colsample_bylevel=0.9)\n",
    "model.fit(X_scaled,y)"
   ],
   "metadata": {
    "collapsed": false,
    "pycharm": {
     "name": "#%%\n"
    }
   }
  },
  {
   "cell_type": "markdown",
   "source": [
    "### Adaboost"
   ],
   "metadata": {
    "collapsed": false
   }
  },
  {
   "cell_type": "code",
   "execution_count": 68,
   "outputs": [
    {
     "data": {
      "text/plain": "{'learning_rate': 0.03, 'n_estimators': 500, 'random_state': 6}"
     },
     "execution_count": 68,
     "metadata": {},
     "output_type": "execute_result"
    }
   ],
   "source": [
    "from sklearn.ensemble import AdaBoostRegressor\n",
    "from sklearn import tree\n",
    "from sklearn.model_selection import GridSearchCV\n",
    "from sklearn.model_selection import cross_val_score\n",
    "from sklearn.model_selection import train_test_split\n",
    "from sklearn.model_selection import KFold\n",
    "from sklearn.metrics import mean_squared_error\n",
    "# for depth in range (1,10):\n",
    "#      tree_regressor=tree.DecisionTreeRegressor(max_depth=depth,random_state=1)\n",
    "#      if tree_regressor.fit(X_scaled,y).tree_.max_depth<depth:\n",
    "#          break\n",
    "#      score=np.mean(cross_val_score(tree_regressor,X_scaled,y,scoring='neg_mean_squared_error', cv=5, n_jobs=1))\n",
    "#      print(depth, score)\n",
    "\n",
    "ada=AdaBoostRegressor()\n",
    "search_grid={'n_estimators':[500,1000,2000],'learning_rate':np.arange(0.01, 0.1, 0.01),'random_state':np.arange(1, 10, 1)}\n",
    "search=GridSearchCV(estimator=ada,param_grid=search_grid,scoring='neg_mean_squared_error',n_jobs=1,cv=2)\n",
    "search.fit(X_scaled,y)\n",
    "search.best_params_"
   ],
   "metadata": {
    "collapsed": false,
    "pycharm": {
     "name": "#%%\n"
    }
   }
  },
  {
   "cell_type": "code",
   "execution_count": 69,
   "outputs": [],
   "source": [
    "model=AdaBoostRegressor(n_estimators=500,learning_rate=0.03,random_state=6)"
   ],
   "metadata": {
    "collapsed": false,
    "pycharm": {
     "name": "#%%\n"
    }
   }
  },
  {
   "cell_type": "markdown",
   "source": [
    "### Cross validation\n",
    "- usually we will do cross validation to evaluate the generalization of model\n",
    "- or you can just use ```sklearn.model_selection.train_test_split``` to evaluate your model"
   ],
   "metadata": {
    "collapsed": false
   }
  },
  {
   "cell_type": "code",
   "execution_count": 90,
   "metadata": {},
   "outputs": [
    {
     "name": "stdout",
     "output_type": "stream",
     "text": [
      "R2: 0.32 (std: 0.11)\n",
      "[0.27519377 0.22390267 0.49537609 0.3766233  0.21754863]\n"
     ]
    },
    {
     "name": "stderr",
     "output_type": "stream",
     "text": [
      "C:\\Users\\Wynns\\anaconda3\\envs\\workspace\\lib\\site-packages\\xgboost\\data.py:250: FutureWarning: pandas.Int64Index is deprecated and will be removed from pandas in a future version. Use pandas.Index with the appropriate dtype instead.\n",
      "  elif isinstance(data.columns, (pd.Int64Index, pd.RangeIndex)):\n",
      "C:\\Users\\Wynns\\anaconda3\\envs\\workspace\\lib\\site-packages\\xgboost\\data.py:250: FutureWarning: pandas.Int64Index is deprecated and will be removed from pandas in a future version. Use pandas.Index with the appropriate dtype instead.\n",
      "  elif isinstance(data.columns, (pd.Int64Index, pd.RangeIndex)):\n",
      "C:\\Users\\Wynns\\anaconda3\\envs\\workspace\\lib\\site-packages\\xgboost\\data.py:250: FutureWarning: pandas.Int64Index is deprecated and will be removed from pandas in a future version. Use pandas.Index with the appropriate dtype instead.\n",
      "  elif isinstance(data.columns, (pd.Int64Index, pd.RangeIndex)):\n",
      "C:\\Users\\Wynns\\anaconda3\\envs\\workspace\\lib\\site-packages\\xgboost\\data.py:250: FutureWarning: pandas.Int64Index is deprecated and will be removed from pandas in a future version. Use pandas.Index with the appropriate dtype instead.\n",
      "  elif isinstance(data.columns, (pd.Int64Index, pd.RangeIndex)):\n",
      "C:\\Users\\Wynns\\anaconda3\\envs\\workspace\\lib\\site-packages\\xgboost\\data.py:250: FutureWarning: pandas.Int64Index is deprecated and will be removed from pandas in a future version. Use pandas.Index with the appropriate dtype instead.\n",
      "  elif isinstance(data.columns, (pd.Int64Index, pd.RangeIndex)):\n"
     ]
    },
    {
     "name": "stdout",
     "output_type": "stream",
     "text": [
      "====================================\n",
      "R2: 0.3194280060341489 (std: 0.10701072498189004)\n",
      "MSE: 0.02004866668312732 (std: 0.004695934788050171)\n",
      "MAPE: 0.15489215218724492 (std: 0.038613440152886584)\n"
     ]
    }
   ],
   "source": [
    "from sklearn import pipeline\n",
    "import joblib\n",
    "from sklearn.model_selection import cross_val_score, cross_validate\n",
    "# directly use cross_val_score\n",
    "scores = cross_val_score(model, X_scaled, y, cv=5)\n",
    "print(\"R2: %0.2f (std: %0.2f)\" % (scores.mean(), scores.std()))\n",
    "print(scores)\n",
    "# need other scoring\n",
    "scores = cross_validate(model, X, y, cv=5, scoring=('r2', 'neg_mean_squared_error', 'neg_mean_absolute_percentage_error'))\n",
    "print(\"====================================\")\n",
    "print(\"R2: {} (std: {})\".format(scores['test_r2'].mean(), scores['test_r2'].std()))\n",
    "print(\"MSE: {} (std: {})\".format(-scores['test_neg_mean_squared_error'].mean(), scores['test_neg_mean_squared_error'].std()))\n",
    "print(\"MAPE: {} (std: {})\".format(-scores['test_neg_mean_absolute_percentage_error'].mean(), scores['test_neg_mean_absolute_percentage_error'].std()))"
   ]
  },
  {
   "cell_type": "markdown",
   "metadata": {},
   "source": [
    "### Prediction\n",
    "1. read data\n",
    "2. model prediction\n",
    "3. to_csv"
   ]
  },
  {
   "cell_type": "code",
   "execution_count": 91,
   "metadata": {},
   "outputs": [
    {
     "name": "stdout",
     "output_type": "stream",
     "text": [
      "(240, 14)\n"
     ]
    },
    {
     "data": {
      "text/plain": "        date   quarter department       day  team  targeted_productivity  \\\n0  2/26/2015  Quarter4     sweing  Thursday     4                   0.80   \n1  2/26/2015  Quarter4     sweing  Thursday     5                   0.35   \n2  2/26/2015  Quarter4  finishing  Thursday    10                   0.70   \n3  2/26/2015  Quarter4  finishing  Thursday     9                   0.75   \n4  2/26/2015  Quarter4     sweing  Thursday     1                   0.35   \n\n     smv     wip  over_time  incentive  idle_time  idle_men  \\\n0  30.10   437.0       7080         32        0.0         0   \n1  27.48   413.0       6840         38        0.0         0   \n2   2.90     NaN       3360          0        0.0         0   \n3   2.90     NaN        960          0        0.0         0   \n4  26.66  1164.0       6600         23        0.0         0   \n\n   no_of_style_change  no_of_workers  \n0                   2             59  \n1                   1             57  \n2                   0              8  \n3                   0              8  \n4                   2             55  ",
      "text/html": "<div>\n<style scoped>\n    .dataframe tbody tr th:only-of-type {\n        vertical-align: middle;\n    }\n\n    .dataframe tbody tr th {\n        vertical-align: top;\n    }\n\n    .dataframe thead th {\n        text-align: right;\n    }\n</style>\n<table border=\"1\" class=\"dataframe\">\n  <thead>\n    <tr style=\"text-align: right;\">\n      <th></th>\n      <th>date</th>\n      <th>quarter</th>\n      <th>department</th>\n      <th>day</th>\n      <th>team</th>\n      <th>targeted_productivity</th>\n      <th>smv</th>\n      <th>wip</th>\n      <th>over_time</th>\n      <th>incentive</th>\n      <th>idle_time</th>\n      <th>idle_men</th>\n      <th>no_of_style_change</th>\n      <th>no_of_workers</th>\n    </tr>\n  </thead>\n  <tbody>\n    <tr>\n      <th>0</th>\n      <td>2/26/2015</td>\n      <td>Quarter4</td>\n      <td>sweing</td>\n      <td>Thursday</td>\n      <td>4</td>\n      <td>0.80</td>\n      <td>30.10</td>\n      <td>437.0</td>\n      <td>7080</td>\n      <td>32</td>\n      <td>0.0</td>\n      <td>0</td>\n      <td>2</td>\n      <td>59</td>\n    </tr>\n    <tr>\n      <th>1</th>\n      <td>2/26/2015</td>\n      <td>Quarter4</td>\n      <td>sweing</td>\n      <td>Thursday</td>\n      <td>5</td>\n      <td>0.35</td>\n      <td>27.48</td>\n      <td>413.0</td>\n      <td>6840</td>\n      <td>38</td>\n      <td>0.0</td>\n      <td>0</td>\n      <td>1</td>\n      <td>57</td>\n    </tr>\n    <tr>\n      <th>2</th>\n      <td>2/26/2015</td>\n      <td>Quarter4</td>\n      <td>finishing</td>\n      <td>Thursday</td>\n      <td>10</td>\n      <td>0.70</td>\n      <td>2.90</td>\n      <td>NaN</td>\n      <td>3360</td>\n      <td>0</td>\n      <td>0.0</td>\n      <td>0</td>\n      <td>0</td>\n      <td>8</td>\n    </tr>\n    <tr>\n      <th>3</th>\n      <td>2/26/2015</td>\n      <td>Quarter4</td>\n      <td>finishing</td>\n      <td>Thursday</td>\n      <td>9</td>\n      <td>0.75</td>\n      <td>2.90</td>\n      <td>NaN</td>\n      <td>960</td>\n      <td>0</td>\n      <td>0.0</td>\n      <td>0</td>\n      <td>0</td>\n      <td>8</td>\n    </tr>\n    <tr>\n      <th>4</th>\n      <td>2/26/2015</td>\n      <td>Quarter4</td>\n      <td>sweing</td>\n      <td>Thursday</td>\n      <td>1</td>\n      <td>0.35</td>\n      <td>26.66</td>\n      <td>1164.0</td>\n      <td>6600</td>\n      <td>23</td>\n      <td>0.0</td>\n      <td>0</td>\n      <td>2</td>\n      <td>55</td>\n    </tr>\n  </tbody>\n</table>\n</div>"
     },
     "execution_count": 91,
     "metadata": {},
     "output_type": "execute_result"
    }
   ],
   "source": [
    "df_test = pd.read_csv(r'./test.csv')\n",
    "print(df_test.shape)\n",
    "df_test.head()"
   ]
  },
  {
   "cell_type": "markdown",
   "metadata": {},
   "source": [
    "### Same preprocessing step as training procedure\n",
    "- can write it like a function or pipeline"
   ]
  },
  {
   "cell_type": "code",
   "execution_count": 92,
   "metadata": {},
   "outputs": [],
   "source": [
    "# Category Encoder\n",
    "from sklearn.preprocessing import LabelEncoder\n",
    "le = LabelEncoder()\n",
    "df_test['date'] = le.fit_transform(df_test['date'])\n",
    "df_test['quarter'] = le.fit_transform(df_test['quarter'])\n",
    "df_test['department'] = le.fit_transform(df_test['department'])\n",
    "df_test['day'] = le.fit_transform(df_test['day'])"
   ]
  },
  {
   "cell_type": "code",
   "execution_count": 93,
   "outputs": [],
   "source": [
    "X_test = df_test[df_test.columns]\n",
    "# Numerical Variable\n",
    "scaler = MinMaxScaler()\n",
    "X_test_scaled = scaler.fit_transform(X_test)\n",
    "y_pred = model.predict(X_test_scaled)"
   ],
   "metadata": {
    "collapsed": false,
    "pycharm": {
     "name": "#%%\n"
    }
   }
  },
  {
   "cell_type": "code",
   "execution_count": 94,
   "outputs": [
    {
     "data": {
      "text/plain": "XGBRegressor(base_score=0.5, booster='gbtree', colsample_bylevel=0.9,\n             colsample_bynode=1, colsample_bytree=0.9, enable_categorical=False,\n             gamma=0, gpu_id=-1, importance_type=None,\n             interaction_constraints='', learning_rate=0.01, max_delta_step=0,\n             max_depth=100, min_child_weight=1, missing=nan,\n             monotone_constraints='()', n_estimators=1000, n_jobs=16,\n             num_parallel_tree=1, predictor='auto', random_state=0, reg_alpha=0,\n             reg_lambda=1, scale_pos_weight=1, subsample=0.8,\n             tree_method='exact', validate_parameters=1, verbosity=None)"
     },
     "execution_count": 94,
     "metadata": {},
     "output_type": "execute_result"
    }
   ],
   "source": [
    "model"
   ],
   "metadata": {
    "collapsed": false,
    "pycharm": {
     "name": "#%%\n"
    }
   }
  },
  {
   "cell_type": "markdown",
   "metadata": {},
   "source": [
    "### Output .csv for submission"
   ]
  },
  {
   "cell_type": "code",
   "execution_count": 95,
   "metadata": {},
   "outputs": [],
   "source": [
    "df_ans = pd.DataFrame(y_pred.astype(float), columns=['actual_productivity'])\n",
    "df_ans.to_csv('mySubmission.csv', index_label='Id')"
   ]
  },
  {
   "cell_type": "markdown",
   "metadata": {},
   "source": [
    "### Some Tips\n",
    "1. try different scaling approach (numerical variable)\n",
    "2. encoding method\n",
    "3. different model\n",
    "4. feature engineering (some different transformation)\n",
    "5. do some data exploration to see other pattern\n",
    "6. hyperparameter\n",
    "\n",
    "### Other Complementary\n",
    "- pipeline: https://scikit-learn.org/stable/modules/compose.html#pipeline\n",
    "- also can try some basic deep learning model (ANN)"
   ]
  },
  {
   "cell_type": "code",
   "execution_count": null,
   "metadata": {},
   "outputs": [],
   "source": []
  },
  {
   "cell_type": "code",
   "execution_count": null,
   "metadata": {},
   "outputs": [],
   "source": []
  }
 ],
 "metadata": {
  "kernelspec": {
   "display_name": "Python 3",
   "language": "python",
   "name": "python3"
  },
  "language_info": {
   "codemirror_mode": {
    "name": "ipython",
    "version": 3
   },
   "file_extension": ".py",
   "mimetype": "text/x-python",
   "name": "python",
   "nbconvert_exporter": "python",
   "pygments_lexer": "ipython3",
   "version": "3.8.3"
  }
 },
 "nbformat": 4,
 "nbformat_minor": 5
}