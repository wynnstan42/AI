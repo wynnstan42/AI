{
 "cells": [
  {
   "cell_type": "code",
   "execution_count": 27,
   "id": "642fa24f",
   "metadata": {},
   "outputs": [],
   "source": [
    "import numpy as np\n",
    "import pandas as pd\n",
    "import seaborn as sns\n",
    "#import miceforest as mf\n",
    "import matplotlib.pyplot as plt\n",
    "import os\n",
    "from sklearn import preprocessing\n",
    "from sklearn.linear_model import LinearRegression\n",
    "from sklearn.model_selection import train_test_split\n",
    "from sklearn.model_selection import cross_val_score, cross_validate\n",
    "from sklearn.preprocessing import LabelEncoder\n",
    "from sklearn.preprocessing import MinMaxScaler\n",
    "from sklearn.preprocessing import RobustScaler\n",
    "from sklearn.preprocessing import MaxAbsScaler\n",
    "from sklearn.model_selection import GridSearchCV\n",
    "from sklearn.ensemble import RandomForestRegressor, RandomForestClassifier\n",
    "from xgboost import XGBRegressor\n",
    "from xgboost import plot_importance\n",
    "\n",
    "scaler = MinMaxScaler()\n",
    "le = LabelEncoder()\n",
    "lr = LinearRegression()\n",
    "\n",
    "#補值-knn\n",
    "def knn_filled_func(x_train, y_train, test, k=3, dispersed=True):\n",
    "    if dispersed:\n",
    "        rf = RandomForestRegressor()\n",
    "    else:\n",
    "        rf = RandomForestClassifier()\n",
    "    rf.fit(x_train, y_train)\n",
    "    return rf.predict(test)\n",
    "\n",
    "#df補值-knn\n",
    "def df_imputation():\n",
    "    imputation = df[['day', 'targeted_productivity','smv', 'wip', 'over_time', 'incentive', 'no_of_workers', 'actual_productivity']]\n",
    "    known = imputation[imputation.wip.notnull()]\n",
    "    unknown = imputation[imputation.wip.isnull()] \n",
    "    x_train_pre = known[['day','smv', 'over_time','no_of_workers']]\n",
    "    y_train_pre = known['wip']\n",
    "    test_pre = unknown[['day','smv', 'over_time','no_of_workers']]\n",
    "    x_train = x_train_pre.values\n",
    "    x_train = x_train.tolist()\n",
    "    y_train = y_train_pre.values\n",
    "    y_train = y_train.tolist()\n",
    "    test = test_pre.values\n",
    "    test = test.tolist()\n",
    "    na_index_list = df.index[df['wip'].isnull()].tolist()\n",
    "    predict = knn_filled_func(x_train, y_train, test, k=3, dispersed=True)\n",
    "    for i in range(0,len(na_index_list)):\n",
    "        df.loc[na_index_list[i], 'wip'] = int (predict[i])\n",
    "    df.to_csv('train_rfr.csv')\n",
    "    \n",
    "#df_test補值-knn\n",
    "def df_test_imputation():\n",
    "    imputation = df_test[['day', 'targeted_productivity','smv', 'wip', 'over_time', 'incentive', 'no_of_workers']]\n",
    "    known = imputation[imputation.wip.notnull()]\n",
    "    unknown = imputation[imputation.wip.isnull()] \n",
    "    x_test_pre = known[['day','smv', 'over_time','no_of_workers', 'targeted_productivity']]\n",
    "    y_test_pre = known['wip']\n",
    "    test_pre_test = unknown[['day','smv', 'over_time','no_of_workers', 'targeted_productivity']]\n",
    "    x_test = x_test_pre.values\n",
    "    x_test = x_test.tolist()\n",
    "    y_test = y_test_pre.values\n",
    "    y_test = y_test.tolist()\n",
    "    test = test_pre_test.values\n",
    "    test = test.tolist()\n",
    "    na_index_list = df_test.index[df_test['wip'].isnull()].tolist()\n",
    "    predict = knn_filled_func(x_test, y_test, test, k=3, dispersed=True)\n",
    "    for i in range(0,len(na_index_list)):\n",
    "        df_test.loc[na_index_list[i], 'wip'] = int (predict[i])\n",
    "    df_test.to_csv('test_rfr.csv')\n",
    "\n",
    "#df補值-regression\n",
    "def df_regression():\n",
    "    imputation = df[['day', 'targeted_productivity','smv', 'wip', 'over_time', 'incentive', 'no_of_workers','actual_productivity']]\n",
    "    known = imputation[imputation.wip.notnull()]\n",
    "    unknown = imputation[imputation.wip.isnull()] \n",
    "    x_train_pre = known[['smv']]\n",
    "    y_train_pre = known['wip']\n",
    "    test_pre = unknown[['smv']]\n",
    "    x_train = x_train_pre.values\n",
    "    x_train = x_train.tolist()\n",
    "    y_train = y_train_pre.values\n",
    "    y_train = y_train.tolist()\n",
    "    test = test_pre.values\n",
    "    test = test.tolist()\n",
    "    lr.fit(x_train,y_train)\n",
    "    predict = lr.predict(test)\n",
    "    na_index_list = df.index[df['wip'].isnull()].tolist()\n",
    "    for i in range(0,len(na_index_list)):\n",
    "        df.loc[na_index_list[i], 'wip'] = int (predict[i])\n",
    "        df.loc[na_index_list[i], 'incentive'] = int (df['incentive'].mean())\n",
    "    df.to_csv('train_regression.csv')\n",
    "    \n",
    "def df_test_regression():\n",
    "    imputation = df_test[['day', 'targeted_productivity','smv', 'wip', 'over_time', 'incentive', 'no_of_workers']]\n",
    "    known = imputation[imputation.wip.notnull()]\n",
    "    unknown = imputation[imputation.wip.isnull()] \n",
    "    x_test_pre = known[['smv']]\n",
    "    y_test_pre = known['wip']\n",
    "    test_pre_test = unknown[['smv']]\n",
    "    x_test = x_test_pre.values\n",
    "    x_test = x_test.tolist()\n",
    "    y_test = y_test_pre.values\n",
    "    y_test = y_test.tolist()\n",
    "    test = test_pre_test.values\n",
    "    test = test.tolist()\n",
    "    lr.fit(x_test,y_test)\n",
    "    predict = lr.predict(test)\n",
    "    na_index_list = df_test.index[df_test['wip'].isnull()].tolist()\n",
    "    for i in range(0,len(na_index_list)):\n",
    "        df_test.loc[na_index_list[i], 'wip'] = int (predict[i])\n",
    "        df_test.loc[na_index_list[i], 'incentive'] = int (df_test['incentive'].mean())\n",
    "    df_test.to_csv('test_regression.csv')\n",
    "\n",
    "#調參\n",
    "def trainandTest(X_train, y_train, X_test):\n",
    "    # XGBoost訓練過程\n",
    "    model = XGBRegressor(max_depth=6, learning_rate=0.05, n_estimators=500, silent=False, objective='reg:gamma')\n",
    "    model.fit(X_train, y_train)\n",
    "    # 對測試集進行預測\n",
    "    ans = model.predict(X_test)\n",
    "    ans_len = len(ans)\n",
    "    id_list = np.arange(10441, 17441)\n",
    "    data_arr = []\n",
    "    for row in range(0, ans_len):\n",
    "        data_arr.append([int(id_list[row]), ans[row]])\n",
    "        np_data = np.array(data_arr)\n",
    "    # 顯示重要特徵\n",
    "    plot_importance(model)\n",
    "    plt.show()\n",
    "\n",
    "#Scatter plot for var1/var2\n",
    "def scatter_plot(var1, var2):\n",
    "    data = pd.concat([df[var1], df[var2]], axis=1)\n",
    "    data.plot.scatter(x=var1, y=var2)"
   ]
  },
  {
   "cell_type": "code",
   "execution_count": 28,
   "id": "438d161e",
   "metadata": {},
   "outputs": [],
   "source": [
    "df = pd.read_csv(r'./train.csv')\n",
    "df['date'] = le.fit_transform(df['date'])\n",
    "df['quarter'] = le.fit_transform(df['quarter'])\n",
    "df['department'] = le.fit_transform(df['department'])\n",
    "df['day'] = le.fit_transform(df['day'])\n",
    "# df = df.drop('date', axis = 1)\n",
    "# df = df.drop('quarter', axis = 1)\n",
    "# df = df.drop('department', axis = 1)\n",
    "# df = df.drop('day', axis = 1)\n",
    "# df = df.drop('wip', axis = 1)\n",
    "# df = df.drop('idle_time', axis = 1)\n",
    "# df = df.drop('idle_men', axis = 1)\n",
    "# df = df.drop('no_of_style_change', axis = 1)\n",
    "# df_imputation()\n",
    "df_regression()\n",
    "X = df[df.columns[0:-1]]\n",
    "y = df[df.columns[-1]]\n",
    "X_scaled = scaler.fit_transform(X)"
   ]
  },
  {
   "cell_type": "code",
   "execution_count": 29,
   "id": "9c906b5d",
   "metadata": {},
   "outputs": [
    {
     "data": {
      "text/plain": "<Figure size 432x288 with 1 Axes>",
      "image/png": "[encoded data removed]"
     },
     "metadata": {
      "needs_background": "light"
     },
     "output_type": "display_data"
    }
   ],
   "source": [
    "var1 = 'smv'\n",
    "var2 = 'wip'\n",
    "scatter_plot(var1, var2)"
   ]
  },
  {
   "cell_type": "code",
   "execution_count": 30,
   "id": "84475fa8",
   "metadata": {},
   "outputs": [
    {
     "name": "stderr",
     "output_type": "stream",
     "text": [
      "C:\\Users\\Wynns\\anaconda3\\envs\\workspace\\lib\\site-packages\\xgboost\\data.py:250: FutureWarning: pandas.Int64Index is deprecated and will be removed from pandas in a future version. Use pandas.Index with the appropriate dtype instead.\n",
      "  elif isinstance(data.columns, (pd.Int64Index, pd.RangeIndex)):\n"
     ]
    },
    {
     "data": {
      "text/plain": "XGBRegressor(base_score=0.5, booster='gbtree', colsample_bylevel=1,\n             colsample_bynode=1, colsample_bytree=1, enable_categorical=False,\n             gamma=0, gpu_id=-1, importance_type=None,\n             interaction_constraints='', learning_rate=0.300000012,\n             max_delta_step=0, max_depth=6, min_child_weight=1, missing=nan,\n             monotone_constraints='()', n_estimators=90, n_jobs=16,\n             num_parallel_tree=1, predictor='auto', random_state=0, reg_alpha=0,\n             reg_lambda=1, scale_pos_weight=1, subsample=1, tree_method='exact',\n             validate_parameters=1, verbosity=None)"
     },
     "execution_count": 30,
     "metadata": {},
     "output_type": "execute_result"
    }
   ],
   "source": [
    "# model = XGBRegressor(learning_rate=0.01, gamma=0.01, reg_alpha=0.1, reg_lambda=0.1, max_depth=5, min_child_weight=6,\n",
    "#                subsample=1, colsample_bytree=0.9, n_estimators=580, n_jobs=1)\n",
    "# model = XGBRegressor(n_estimators=580)\n",
    "# model = XGBRegressor(learning_rate=0.01,n_estimators=400,n_jobs=1,min_child_weight=5)\n",
    "model = XGBRegressor(n_estimators=90,objective='reg:squarederror')\n",
    "model.fit(X,y)"
   ]
  },
  {
   "cell_type": "code",
   "execution_count": 31,
   "id": "ff2dbc1a",
   "metadata": {},
   "outputs": [],
   "source": [
    "df_test = pd.read_csv(r'./test.csv')\n",
    "df_test['date'] = le.fit_transform(df_test['date'])\n",
    "df_test['quarter'] = le.fit_transform(df_test['quarter'])\n",
    "df_test['department'] = le.fit_transform(df_test['department'])\n",
    "df_test['day'] = le.fit_transform(df_test['day'])\n",
    "# df_test = df_test.drop('date', axis = 1)\n",
    "# df_test = df_test.drop('quarter', axis = 1)\n",
    "# df_test = df_test.drop('department', axis = 1)\n",
    "# df_test = df_test.drop('day', axis = 1)\n",
    "# df_test = df_test.drop('wip', axis = 1)\n",
    "# df_test = df_test.drop('idle_time', axis = 1)\n",
    "# df_test = df_test.drop('idle_men', axis = 1)\n",
    "# df_test = df_test.drop('no_of_style_change', axis = 1)\n",
    "# df_test_imputation()\n",
    "df_test_regression()\n",
    "X_test = df_test[df_test.columns]\n",
    "X_test_scaled = scaler.fit_transform(X_test)\n",
    "y_pred = model.predict(X_test_scaled)"
   ]
  },
  {
   "cell_type": "code",
   "execution_count": 33,
   "id": "32909183",
   "metadata": {},
   "outputs": [
    {
     "name": "stdout",
     "output_type": "stream",
     "text": [
      "R2: 0.97 (std: 0.02)\n",
      "[0.9756439  0.97592582 0.9977446  0.96801429 0.92552982]\n"
     ]
    },
    {
     "name": "stderr",
     "output_type": "stream",
     "text": [
      "C:\\Users\\Wynns\\anaconda3\\envs\\workspace\\lib\\site-packages\\xgboost\\data.py:250: FutureWarning: pandas.Int64Index is deprecated and will be removed from pandas in a future version. Use pandas.Index with the appropriate dtype instead.\n",
      "  elif isinstance(data.columns, (pd.Int64Index, pd.RangeIndex)):\n",
      "C:\\Users\\Wynns\\anaconda3\\envs\\workspace\\lib\\site-packages\\xgboost\\data.py:250: FutureWarning: pandas.Int64Index is deprecated and will be removed from pandas in a future version. Use pandas.Index with the appropriate dtype instead.\n",
      "  elif isinstance(data.columns, (pd.Int64Index, pd.RangeIndex)):\n",
      "C:\\Users\\Wynns\\anaconda3\\envs\\workspace\\lib\\site-packages\\xgboost\\data.py:250: FutureWarning: pandas.Int64Index is deprecated and will be removed from pandas in a future version. Use pandas.Index with the appropriate dtype instead.\n",
      "  elif isinstance(data.columns, (pd.Int64Index, pd.RangeIndex)):\n",
      "C:\\Users\\Wynns\\anaconda3\\envs\\workspace\\lib\\site-packages\\xgboost\\data.py:250: FutureWarning: pandas.Int64Index is deprecated and will be removed from pandas in a future version. Use pandas.Index with the appropriate dtype instead.\n",
      "  elif isinstance(data.columns, (pd.Int64Index, pd.RangeIndex)):\n"
     ]
    },
    {
     "name": "stdout",
     "output_type": "stream",
     "text": [
      "====================================\n",
      "R2: 0.9685716862692242 (std: 0.02369840366670562)\n",
      "MSE: 0.0001343332427495625 (std: 7.633011299213925e-05)\n",
      "MAPE: 0.013431997643783689 (std: 0.005751642982101193)\n",
      "MAE: 0.009472387935966253 (std: 0.004079470370917238)\n"
     ]
    },
    {
     "name": "stderr",
     "output_type": "stream",
     "text": [
      "C:\\Users\\Wynns\\anaconda3\\envs\\workspace\\lib\\site-packages\\xgboost\\data.py:250: FutureWarning: pandas.Int64Index is deprecated and will be removed from pandas in a future version. Use pandas.Index with the appropriate dtype instead.\n",
      "  elif isinstance(data.columns, (pd.Int64Index, pd.RangeIndex)):\n"
     ]
    },
    {
     "data": {
      "text/plain": "<Figure size 360x360 with 1 Axes>",
      "image/png": "[encoded data removed]"
     },
     "metadata": {
      "needs_background": "light"
     },
     "output_type": "display_data"
    }
   ],
   "source": [
    "df_ans = pd.DataFrame(y_pred.astype(float), columns=['actual_productivity'])\n",
    "df_ans.to_csv('mySubmission.csv', index_label='Id')\n",
    "df = pd.read_csv(r'./mySubmission.csv')\n",
    "sns.displot(df['actual_productivity'])\n",
    "\n",
    "scores = cross_val_score(model, X_test_scaled, y_pred, cv=5)\n",
    "print(\"R2: %0.2f (std: %0.2f)\" % (scores.mean(), scores.std()))\n",
    "print(scores)\n",
    "# need other scoring\n",
    "scores = cross_validate(model, X_test, y_pred, cv=5, scoring=('r2', 'neg_mean_squared_error', 'neg_mean_absolute_percentage_error', 'neg_mean_absolute_error'))\n",
    "print(\"====================================\")\n",
    "print(\"R2: {} (std: {})\".format(scores['test_r2'].mean(), scores['test_r2'].std()))\n",
    "print(\"MSE: {} (std: {})\".format(-scores['test_neg_mean_squared_error'].mean(), scores['test_neg_mean_squared_error'].std()))\n",
    "print(\"MAPE: {} (std: {})\".format(-scores['test_neg_mean_absolute_percentage_error'].mean(), scores['test_neg_mean_absolute_percentage_error'].std()))\n",
    "print(\"MAE: {} (std: {})\".format(-scores['test_neg_mean_absolute_error'].mean(), scores['test_neg_mean_absolute_error'].std()))"
   ]
  },
  {
   "cell_type": "code",
   "execution_count": null,
   "id": "7d441fe2",
   "metadata": {},
   "outputs": [],
   "source": [
    "# trainandTest(X, y, X_test)"
   ]
  },
  {
   "cell_type": "code",
   "execution_count": null,
   "id": "bec00b3a",
   "metadata": {},
   "outputs": [],
   "source": [
    "#調參\n",
    "# cv_params = {'min_child_weight':[3,4,5]}\n",
    "# # other_params = {'learning_rate':0.01, 'gamma':0.01, 'reg_alpha':0.1, 'reg_lambda':0.1, 'max_depth':5, 'min_child_weight':6,\n",
    "# #                 'subsample':1, 'colsample_bytree':0.9, 'n_estimators':580, 'n_jobs':1}\n",
    "# other_params = {'learning_rate':0.01,'n_estimators':400, 'n_jobs':1,'min_child_weight':5}\n",
    "# model = XGBRegressor(**other_params)\n",
    "# optimized_GBM = GridSearchCV(estimator=model, param_grid=cv_params, scoring='r2', cv=5, verbose=1, n_jobs=4)\n",
    "# optimized_GBM.fit(X, y)\n",
    "# evalute_result = optimized_GBM.cv_results_\n",
    "# print('每輪迭代運行結果', (evalute_result))\n",
    "# print('參數的最佳取值', (optimized_GBM.best_params_))\n",
    "# print('最佳模型得分', (optimized_GBM.best_score_))"
   ]
  },
  {
   "cell_type": "code",
   "execution_count": null,
   "id": "bcba000b",
   "metadata": {},
   "outputs": [],
   "source": []
  }
 ],
 "metadata": {
  "kernelspec": {
   "display_name": "Python 3 (ipykernel)",
   "language": "python",
   "name": "python3"
  },
  "language_info": {
   "codemirror_mode": {
    "name": "ipython",
    "version": 3
   },
   "file_extension": ".py",
   "mimetype": "text/x-python",
   "name": "python",
   "nbconvert_exporter": "python",
   "pygments_lexer": "ipython3",
   "version": "3.9.7"
  }
 },
 "nbformat": 4,
 "nbformat_minor": 5
}